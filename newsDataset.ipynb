{
 "cells": [
  {
   "cell_type": "code",
   "execution_count": 1,
   "metadata": {
    "colab": {
     "base_uri": "https://localhost:8080/"
    },
    "id": "XRlxLGRtzEub",
    "outputId": "d132cbed-aa08-4129-b8bf-60362d356627"
   },
   "outputs": [
    {
     "name": "stderr",
     "output_type": "stream",
     "text": [
      "[nltk_data] Downloading package stopwords to\n",
      "[nltk_data]     C:\\Users\\asus\\AppData\\Roaming\\nltk_data...\n",
      "[nltk_data]   Package stopwords is already up-to-date!\n"
     ]
    }
   ],
   "source": [
    "import nltk\n",
    "import sklearn\n",
    "import pandas as pd\n",
    "import numpy as np\n",
    "import re\n",
    "import string\n",
    "nltk.download(\"stopwords\")\n",
    "from nltk.corpus import stopwords"
   ]
  },
  {
   "cell_type": "code",
   "execution_count": 2,
   "metadata": {
    "id": "f9-HtaPxzEue"
   },
   "outputs": [],
   "source": [
    "from sklearn.datasets import fetch_20newsgroups"
   ]
  },
  {
   "cell_type": "code",
   "execution_count": 3,
   "metadata": {
    "id": "Hi4fjAq-zEue"
   },
   "outputs": [],
   "source": [
    "categories = fetch_20newsgroups().target_names"
   ]
  },
  {
   "cell_type": "code",
   "execution_count": 4,
   "metadata": {
    "id": "gcF_LvGHzEuf"
   },
   "outputs": [],
   "source": [
    "train= fetch_20newsgroups(subset=\"train\" ,categories = categories) "
   ]
  },
  {
   "cell_type": "code",
   "execution_count": 5,
   "metadata": {
    "id": "bSztgqUxzEuf"
   },
   "outputs": [],
   "source": [
    "test= fetch_20newsgroups(subset=\"test\" ,categories = categories) "
   ]
  },
  {
   "cell_type": "code",
   "execution_count": 7,
   "metadata": {
    "colab": {
     "base_uri": "https://localhost:8080/"
    },
    "id": "OoiwIDvHzEuf",
    "outputId": "649b6aa2-a29e-4ee4-f143-2a372eb02642",
    "scrolled": true
   },
   "outputs": [
    {
     "data": {
      "text/html": [
       "<div>\n",
       "<style scoped>\n",
       "    .dataframe tbody tr th:only-of-type {\n",
       "        vertical-align: middle;\n",
       "    }\n",
       "\n",
       "    .dataframe tbody tr th {\n",
       "        vertical-align: top;\n",
       "    }\n",
       "\n",
       "    .dataframe thead th {\n",
       "        text-align: right;\n",
       "    }\n",
       "</style>\n",
       "<table border=\"1\" class=\"dataframe\">\n",
       "  <thead>\n",
       "    <tr style=\"text-align: right;\">\n",
       "      <th></th>\n",
       "      <th>text</th>\n",
       "      <th>target</th>\n",
       "    </tr>\n",
       "  </thead>\n",
       "  <tbody>\n",
       "    <tr>\n",
       "      <th>0</th>\n",
       "      <td>From: lerxst@wam.umd.edu (where's my thing)\\nS...</td>\n",
       "      <td>7</td>\n",
       "    </tr>\n",
       "    <tr>\n",
       "      <th>1</th>\n",
       "      <td>From: guykuo@carson.u.washington.edu (Guy Kuo)...</td>\n",
       "      <td>4</td>\n",
       "    </tr>\n",
       "    <tr>\n",
       "      <th>2</th>\n",
       "      <td>From: twillis@ec.ecn.purdue.edu (Thomas E Will...</td>\n",
       "      <td>4</td>\n",
       "    </tr>\n",
       "    <tr>\n",
       "      <th>3</th>\n",
       "      <td>From: jgreen@amber (Joe Green)\\nSubject: Re: W...</td>\n",
       "      <td>1</td>\n",
       "    </tr>\n",
       "    <tr>\n",
       "      <th>4</th>\n",
       "      <td>From: jcm@head-cfa.harvard.edu (Jonathan McDow...</td>\n",
       "      <td>14</td>\n",
       "    </tr>\n",
       "  </tbody>\n",
       "</table>\n",
       "</div>"
      ],
      "text/plain": [
       "                                                text  target\n",
       "0  From: lerxst@wam.umd.edu (where's my thing)\\nS...       7\n",
       "1  From: guykuo@carson.u.washington.edu (Guy Kuo)...       4\n",
       "2  From: twillis@ec.ecn.purdue.edu (Thomas E Will...       4\n",
       "3  From: jgreen@amber (Joe Green)\\nSubject: Re: W...       1\n",
       "4  From: jcm@head-cfa.harvard.edu (Jonathan McDow...      14"
      ]
     },
     "execution_count": 7,
     "metadata": {},
     "output_type": "execute_result"
    }
   ],
   "source": [
    "df = pd.DataFrame(train[\"data\"], columns=[\"text\"])\n",
    "df[\"target\"] = train[\"target\"]\n",
    "df.head()"
   ]
  },
  {
   "cell_type": "code",
   "execution_count": 9,
   "metadata": {},
   "outputs": [
    {
     "data": {
      "text/html": [
       "<div>\n",
       "<style scoped>\n",
       "    .dataframe tbody tr th:only-of-type {\n",
       "        vertical-align: middle;\n",
       "    }\n",
       "\n",
       "    .dataframe tbody tr th {\n",
       "        vertical-align: top;\n",
       "    }\n",
       "\n",
       "    .dataframe thead th {\n",
       "        text-align: right;\n",
       "    }\n",
       "</style>\n",
       "<table border=\"1\" class=\"dataframe\">\n",
       "  <thead>\n",
       "    <tr style=\"text-align: right;\">\n",
       "      <th></th>\n",
       "      <th>text</th>\n",
       "      <th>target</th>\n",
       "    </tr>\n",
       "  </thead>\n",
       "  <tbody>\n",
       "    <tr>\n",
       "      <th>0</th>\n",
       "      <td>From: v064mb9k@ubvmsd.cc.buffalo.edu (NEIL B. ...</td>\n",
       "      <td>7</td>\n",
       "    </tr>\n",
       "    <tr>\n",
       "      <th>1</th>\n",
       "      <td>From: Rick Miller &lt;rick@ee.uwm.edu&gt;\\nSubject: ...</td>\n",
       "      <td>5</td>\n",
       "    </tr>\n",
       "    <tr>\n",
       "      <th>2</th>\n",
       "      <td>From: mathew &lt;mathew@mantis.co.uk&gt;\\nSubject: R...</td>\n",
       "      <td>0</td>\n",
       "    </tr>\n",
       "    <tr>\n",
       "      <th>3</th>\n",
       "      <td>From: bakken@cs.arizona.edu (Dave Bakken)\\nSub...</td>\n",
       "      <td>17</td>\n",
       "    </tr>\n",
       "    <tr>\n",
       "      <th>4</th>\n",
       "      <td>From: livesey@solntze.wpd.sgi.com (Jon Livesey...</td>\n",
       "      <td>19</td>\n",
       "    </tr>\n",
       "  </tbody>\n",
       "</table>\n",
       "</div>"
      ],
      "text/plain": [
       "                                                text  target\n",
       "0  From: v064mb9k@ubvmsd.cc.buffalo.edu (NEIL B. ...       7\n",
       "1  From: Rick Miller <rick@ee.uwm.edu>\\nSubject: ...       5\n",
       "2  From: mathew <mathew@mantis.co.uk>\\nSubject: R...       0\n",
       "3  From: bakken@cs.arizona.edu (Dave Bakken)\\nSub...      17\n",
       "4  From: livesey@solntze.wpd.sgi.com (Jon Livesey...      19"
      ]
     },
     "execution_count": 9,
     "metadata": {},
     "output_type": "execute_result"
    }
   ],
   "source": [
    "df_test = pd.DataFrame(test[\"data\"], columns=[\"text\"])\n",
    "df_test[\"target\"] = test[\"target\"]\n",
    "df_test.head()"
   ]
  },
  {
   "cell_type": "code",
   "execution_count": 10,
   "metadata": {
    "id": "q7CRMjAozEuh"
   },
   "outputs": [],
   "source": [
    "stop = stopwords.words('english')"
   ]
  },
  {
   "cell_type": "code",
   "execution_count": 11,
   "metadata": {
    "id": "k-QnyU0gzEug"
   },
   "outputs": [],
   "source": [
    "df[\"text\"] = df[\"text\"].str.lower()\n",
    "df_test[\"text\"] = df_test[\"text\"].str.lower()"
   ]
  },
  {
   "cell_type": "code",
   "execution_count": 13,
   "metadata": {},
   "outputs": [],
   "source": [
    "def rmv_emails_websites(string):\n",
    "    \"\"\"Function removes emails, websites and numbers\"\"\"\n",
    "    new_str = re.sub(r\"\\S+@\\S+\", '', string)\n",
    "    new_str = re.sub(r\"\\S+.co\\S+\", '', new_str)\n",
    "    new_str = re.sub(r\"\\S+.ed\\S+\", '', new_str)\n",
    "    new_str = re.sub(r\"[0-9]+\", '', new_str)\n",
    "    return new_str"
   ]
  },
  {
   "cell_type": "code",
   "execution_count": 21,
   "metadata": {},
   "outputs": [],
   "source": [
    "df['text'] = df['text'].apply(lambda x : rmv_emails_websites(x))\n",
    "df_test['text'] = df_test['text'].apply(lambda x : rmv_emails_websites(x))"
   ]
  },
  {
   "cell_type": "code",
   "execution_count": 22,
   "metadata": {},
   "outputs": [],
   "source": [
    "url = re.compile(r'https?://\\S+|www\\.\\S+')\n",
    "df['text'] = df['text'].apply(lambda x : url.sub(r'', x))\n",
    "df_test[\"text\"] = df_test[\"text\"].apply(lambda x : url.sub(r'', x))"
   ]
  },
  {
   "cell_type": "code",
   "execution_count": 23,
   "metadata": {},
   "outputs": [],
   "source": [
    "table = str.maketrans('', '', string.punctuation)\n",
    "df['text'] = df['text'].apply(lambda x: x.translate(table))\n",
    "df_test[\"text\"] = df_test[\"text\"].apply(lambda x: x.translate(table))"
   ]
  },
  {
   "cell_type": "code",
   "execution_count": 24,
   "metadata": {},
   "outputs": [
    {
     "data": {
      "text/html": [
       "<div>\n",
       "<style scoped>\n",
       "    .dataframe tbody tr th:only-of-type {\n",
       "        vertical-align: middle;\n",
       "    }\n",
       "\n",
       "    .dataframe tbody tr th {\n",
       "        vertical-align: top;\n",
       "    }\n",
       "\n",
       "    .dataframe thead th {\n",
       "        text-align: right;\n",
       "    }\n",
       "</style>\n",
       "<table border=\"1\" class=\"dataframe\">\n",
       "  <thead>\n",
       "    <tr style=\"text-align: right;\">\n",
       "      <th></th>\n",
       "      <th>text</th>\n",
       "      <th>target</th>\n",
       "    </tr>\n",
       "  </thead>\n",
       "  <tbody>\n",
       "    <tr>\n",
       "      <th>0</th>\n",
       "      <td>from  wheres my thing\\nsubject what car is thi...</td>\n",
       "      <td>7</td>\n",
       "    </tr>\n",
       "    <tr>\n",
       "      <th>1</th>\n",
       "      <td>from  guy kuo\\nsubject si clock poll  final ca...</td>\n",
       "      <td>4</td>\n",
       "    </tr>\n",
       "    <tr>\n",
       "      <th>2</th>\n",
       "      <td>from  thomas e willis\\nsubject pb questions\\no...</td>\n",
       "      <td>4</td>\n",
       "    </tr>\n",
       "    <tr>\n",
       "      <th>3</th>\n",
       "      <td>from  joe green\\nsubject re weitek p \\norganiz...</td>\n",
       "      <td>1</td>\n",
       "    </tr>\n",
       "    <tr>\n",
       "      <th>4</th>\n",
       "      <td>from  jonathan mcdowell\\nsubject re shuttle la...</td>\n",
       "      <td>14</td>\n",
       "    </tr>\n",
       "  </tbody>\n",
       "</table>\n",
       "</div>"
      ],
      "text/plain": [
       "                                                text  target\n",
       "0  from  wheres my thing\\nsubject what car is thi...       7\n",
       "1  from  guy kuo\\nsubject si clock poll  final ca...       4\n",
       "2  from  thomas e willis\\nsubject pb questions\\no...       4\n",
       "3  from  joe green\\nsubject re weitek p \\norganiz...       1\n",
       "4  from  jonathan mcdowell\\nsubject re shuttle la...      14"
      ]
     },
     "execution_count": 24,
     "metadata": {},
     "output_type": "execute_result"
    }
   ],
   "source": [
    "df.head()"
   ]
  },
  {
   "cell_type": "code",
   "execution_count": 25,
   "metadata": {
    "colab": {
     "base_uri": "https://localhost:8080/",
     "height": 203
    },
    "id": "1U0KhFR-zEuj",
    "outputId": "ed25c023-6ef9-4565-ecd6-9490d9765bce"
   },
   "outputs": [
    {
     "data": {
      "text/html": [
       "<div>\n",
       "<style scoped>\n",
       "    .dataframe tbody tr th:only-of-type {\n",
       "        vertical-align: middle;\n",
       "    }\n",
       "\n",
       "    .dataframe tbody tr th {\n",
       "        vertical-align: top;\n",
       "    }\n",
       "\n",
       "    .dataframe thead th {\n",
       "        text-align: right;\n",
       "    }\n",
       "</style>\n",
       "<table border=\"1\" class=\"dataframe\">\n",
       "  <thead>\n",
       "    <tr style=\"text-align: right;\">\n",
       "      <th></th>\n",
       "      <th>text</th>\n",
       "      <th>target</th>\n",
       "    </tr>\n",
       "  </thead>\n",
       "  <tbody>\n",
       "    <tr>\n",
       "      <th>0</th>\n",
       "      <td>from  neil b gandler\\nsubject need info on  bo...</td>\n",
       "      <td>7</td>\n",
       "    </tr>\n",
       "    <tr>\n",
       "      <th>1</th>\n",
       "      <td>from rick miller \\nsubject xface\\norganization...</td>\n",
       "      <td>5</td>\n",
       "    </tr>\n",
       "    <tr>\n",
       "      <th>2</th>\n",
       "      <td>from mathew \\nsubject re strong  weak atheism\\...</td>\n",
       "      <td>0</td>\n",
       "    </tr>\n",
       "    <tr>\n",
       "      <th>3</th>\n",
       "      <td>from  dave bakken\\nsubject re saudi  debut of ...</td>\n",
       "      <td>17</td>\n",
       "    </tr>\n",
       "    <tr>\n",
       "      <th>4</th>\n",
       "      <td>from  jon livesey\\nsubject re after  years can...</td>\n",
       "      <td>19</td>\n",
       "    </tr>\n",
       "  </tbody>\n",
       "</table>\n",
       "</div>"
      ],
      "text/plain": [
       "                                                text  target\n",
       "0  from  neil b gandler\\nsubject need info on  bo...       7\n",
       "1  from rick miller \\nsubject xface\\norganization...       5\n",
       "2  from mathew \\nsubject re strong  weak atheism\\...       0\n",
       "3  from  dave bakken\\nsubject re saudi  debut of ...      17\n",
       "4  from  jon livesey\\nsubject re after  years can...      19"
      ]
     },
     "execution_count": 25,
     "metadata": {},
     "output_type": "execute_result"
    }
   ],
   "source": [
    "df_test.head()"
   ]
  },
  {
   "cell_type": "code",
   "execution_count": 26,
   "metadata": {
    "id": "Nq4g9KhtzEuj"
   },
   "outputs": [],
   "source": [
    "df[\"text\"] = df[\"text\"].apply(lambda line: line[5:])\n",
    "df_test[\"text\"] = df_test[\"text\"].apply(lambda line: line[5:])"
   ]
  },
  {
   "cell_type": "code",
   "execution_count": 27,
   "metadata": {
    "id": "y8aKrH7MzEuj"
   },
   "outputs": [],
   "source": [
    "df[\"text\"] = df[\"text\"].apply(lambda line: line.replace(\"\\n\", \" \"))\n",
    "df_test[\"text\"] = df_test[\"text\"].apply(lambda line: line.replace(\"\\n\", \" \"))"
   ]
  },
  {
   "cell_type": "code",
   "execution_count": 28,
   "metadata": {
    "colab": {
     "base_uri": "https://localhost:8080/"
    },
    "id": "bOtau2XSzEuk",
    "outputId": "85ca3dde-baa6-4d22-fefb-cd89909c4475"
   },
   "outputs": [
    {
     "data": {
      "text/plain": [
       "0         wheres my thing subject what car is this nntp...\n",
       "1         guy kuo subject si clock poll  final call sum...\n",
       "2         thomas e willis subject pb questions organiza...\n",
       "3         joe green subject re weitek p  organization  ...\n",
       "4         jonathan mcdowell subject re shuttle launch q...\n",
       "                               ...                        \n",
       "11309     jim zisfein  subject re migraines and scans d...\n",
       "11310     subject screen death mac plus lines  organiza...\n",
       "11311     will estes subject mounting  in vertical case...\n",
       "11312      subject re sphere from  points organization ...\n",
       "11313     kevin j gunning subject stolen cbrrr organiza...\n",
       "Name: text, Length: 11314, dtype: object"
      ]
     },
     "execution_count": 28,
     "metadata": {},
     "output_type": "execute_result"
    }
   ],
   "source": [
    "df[\"text\"]"
   ]
  },
  {
   "cell_type": "code",
   "execution_count": 29,
   "metadata": {
    "colab": {
     "base_uri": "https://localhost:8080/"
    },
    "id": "uS94fXyJzEuk",
    "outputId": "fa46c297-046a-47c3-8661-d6c9748f5111"
   },
   "outputs": [
    {
     "data": {
      "text/plain": [
       "0        neil b gandler subject need info on  bonnevil...\n",
       "1       rick miller  subject xface organization just m...\n",
       "2       mathew  subject re strong  weak atheism organi...\n",
       "3        dave bakken subject re saudi  debut of human ...\n",
       "4        jon livesey subject re after  years can we sa...\n",
       "                              ...                        \n",
       "7527     stupendous man subject re temperature of the ...\n",
       "7528     jim smyton subject re monitors  should they b...\n",
       "7529     subject re game length was re braves update o...\n",
       "7530      subject intel chmos  design kit newssoftware...\n",
       "7531     subject re homosexuality issues in christiani...\n",
       "Name: text, Length: 7532, dtype: object"
      ]
     },
     "execution_count": 29,
     "metadata": {},
     "output_type": "execute_result"
    }
   ],
   "source": [
    "df_test[\"text\"]"
   ]
  },
  {
   "cell_type": "code",
   "execution_count": 30,
   "metadata": {
    "id": "8-rGtSF1zEuk"
   },
   "outputs": [],
   "source": [
    "def text_process(text):\n",
    "    \"\"\"\n",
    "    1. Remove stop words\n",
    "    2. Return list of clean text words\n",
    "    \"\"\"\n",
    "    return [word for word in text.split() if word.lower() not in stopwords.words('english')]"
   ]
  },
  {
   "cell_type": "code",
   "execution_count": 31,
   "metadata": {
    "id": "9ncZtFjdzEuk"
   },
   "outputs": [],
   "source": [
    "df[\"text\"] = df[\"text\"].apply(text_process)"
   ]
  },
  {
   "cell_type": "code",
   "execution_count": 32,
   "metadata": {
    "id": "752cR_mKzEuk"
   },
   "outputs": [],
   "source": [
    "df_test[\"text\"] = df_test[\"text\"].apply(text_process)"
   ]
  },
  {
   "cell_type": "code",
   "execution_count": 33,
   "metadata": {
    "id": "2cHGefPNzEul"
   },
   "outputs": [],
   "source": [
    "def list_to_string(text):\n",
    "    line = \"\"\n",
    "    for word in text:\n",
    "        line += word + \" \"\n",
    "    return line.strip()"
   ]
  },
  {
   "cell_type": "code",
   "execution_count": 34,
   "metadata": {
    "id": "ADoPPON-zEul"
   },
   "outputs": [],
   "source": [
    "df[\"text\"] = df[\"text\"].apply(list_to_string)"
   ]
  },
  {
   "cell_type": "code",
   "execution_count": 35,
   "metadata": {
    "id": "gkN3WFRPzEul"
   },
   "outputs": [],
   "source": [
    "df_test[\"text\"] = df_test[\"text\"].apply(list_to_string)"
   ]
  },
  {
   "cell_type": "code",
   "execution_count": 36,
   "metadata": {
    "colab": {
     "base_uri": "https://localhost:8080/",
     "height": 203
    },
    "id": "KA1Hs4-GzEul",
    "outputId": "146bfa37-402c-4a47-bbe8-a07cb76c1108"
   },
   "outputs": [
    {
     "data": {
      "text/html": [
       "<div>\n",
       "<style scoped>\n",
       "    .dataframe tbody tr th:only-of-type {\n",
       "        vertical-align: middle;\n",
       "    }\n",
       "\n",
       "    .dataframe tbody tr th {\n",
       "        vertical-align: top;\n",
       "    }\n",
       "\n",
       "    .dataframe thead th {\n",
       "        text-align: right;\n",
       "    }\n",
       "</style>\n",
       "<table border=\"1\" class=\"dataframe\">\n",
       "  <thead>\n",
       "    <tr style=\"text-align: right;\">\n",
       "      <th></th>\n",
       "      <th>text</th>\n",
       "      <th>target</th>\n",
       "    </tr>\n",
       "  </thead>\n",
       "  <tbody>\n",
       "    <tr>\n",
       "      <th>0</th>\n",
       "      <td>wheres thing subject car nntppostinghost organ...</td>\n",
       "      <td>7</td>\n",
       "    </tr>\n",
       "    <tr>\n",
       "      <th>1</th>\n",
       "      <td>guy kuo subject si clock poll final call summa...</td>\n",
       "      <td>4</td>\n",
       "    </tr>\n",
       "    <tr>\n",
       "      <th>2</th>\n",
       "      <td>thomas e willis subject pb questions organizat...</td>\n",
       "      <td>4</td>\n",
       "    </tr>\n",
       "    <tr>\n",
       "      <th>3</th>\n",
       "      <td>joe green subject weitek p organization system...</td>\n",
       "      <td>1</td>\n",
       "    </tr>\n",
       "    <tr>\n",
       "      <th>4</th>\n",
       "      <td>jonathan mcdowell subject shuttle launch quest...</td>\n",
       "      <td>14</td>\n",
       "    </tr>\n",
       "  </tbody>\n",
       "</table>\n",
       "</div>"
      ],
      "text/plain": [
       "                                                text  target\n",
       "0  wheres thing subject car nntppostinghost organ...       7\n",
       "1  guy kuo subject si clock poll final call summa...       4\n",
       "2  thomas e willis subject pb questions organizat...       4\n",
       "3  joe green subject weitek p organization system...       1\n",
       "4  jonathan mcdowell subject shuttle launch quest...      14"
      ]
     },
     "execution_count": 36,
     "metadata": {},
     "output_type": "execute_result"
    }
   ],
   "source": [
    "df.head()"
   ]
  },
  {
   "cell_type": "code",
   "execution_count": 37,
   "metadata": {
    "colab": {
     "base_uri": "https://localhost:8080/",
     "height": 203
    },
    "id": "FtFv6-mmzEul",
    "outputId": "b9da48fc-edb5-48af-c7df-7563d767cb6f"
   },
   "outputs": [
    {
     "data": {
      "text/html": [
       "<div>\n",
       "<style scoped>\n",
       "    .dataframe tbody tr th:only-of-type {\n",
       "        vertical-align: middle;\n",
       "    }\n",
       "\n",
       "    .dataframe tbody tr th {\n",
       "        vertical-align: top;\n",
       "    }\n",
       "\n",
       "    .dataframe thead th {\n",
       "        text-align: right;\n",
       "    }\n",
       "</style>\n",
       "<table border=\"1\" class=\"dataframe\">\n",
       "  <thead>\n",
       "    <tr style=\"text-align: right;\">\n",
       "      <th></th>\n",
       "      <th>text</th>\n",
       "      <th>target</th>\n",
       "    </tr>\n",
       "  </thead>\n",
       "  <tbody>\n",
       "    <tr>\n",
       "      <th>0</th>\n",
       "      <td>neil b gandler subject need info bonneville or...</td>\n",
       "      <td>7</td>\n",
       "    </tr>\n",
       "    <tr>\n",
       "      <th>1</th>\n",
       "      <td>rick miller subject xface organization lines d...</td>\n",
       "      <td>5</td>\n",
       "    </tr>\n",
       "    <tr>\n",
       "      <th>2</th>\n",
       "      <td>mathew subject strong weak atheism organizatio...</td>\n",
       "      <td>0</td>\n",
       "    </tr>\n",
       "    <tr>\n",
       "      <th>3</th>\n",
       "      <td>dave bakken subject saudi debut human rights g...</td>\n",
       "      <td>17</td>\n",
       "    </tr>\n",
       "    <tr>\n",
       "      <th>4</th>\n",
       "      <td>jon livesey subject years say christian morali...</td>\n",
       "      <td>19</td>\n",
       "    </tr>\n",
       "  </tbody>\n",
       "</table>\n",
       "</div>"
      ],
      "text/plain": [
       "                                                text  target\n",
       "0  neil b gandler subject need info bonneville or...       7\n",
       "1  rick miller subject xface organization lines d...       5\n",
       "2  mathew subject strong weak atheism organizatio...       0\n",
       "3  dave bakken subject saudi debut human rights g...      17\n",
       "4  jon livesey subject years say christian morali...      19"
      ]
     },
     "execution_count": 37,
     "metadata": {},
     "output_type": "execute_result"
    }
   ],
   "source": [
    "df_test.head()"
   ]
  },
  {
   "cell_type": "code",
   "execution_count": 38,
   "metadata": {
    "id": "O3BdsGvxzEum"
   },
   "outputs": [],
   "source": [
    "from sklearn.feature_extraction.text import CountVectorizer"
   ]
  },
  {
   "cell_type": "code",
   "execution_count": 39,
   "metadata": {
    "id": "SmVOrCSszEum"
   },
   "outputs": [],
   "source": [
    "bow_transformer = CountVectorizer(analyzer=text_process).fit(df[\"text\"])"
   ]
  },
  {
   "cell_type": "code",
   "execution_count": 40,
   "metadata": {
    "id": "uQZFgqfJzEum"
   },
   "outputs": [],
   "source": [
    "text_bow = bow_transformer.transform(df[\"text\"])"
   ]
  },
  {
   "cell_type": "code",
   "execution_count": 30,
   "metadata": {
    "colab": {
     "base_uri": "https://localhost:8080/"
    },
    "id": "zvTdrcOMzEum",
    "outputId": "69597ee8-4084-47c9-bce6-e370aad5ef78"
   },
   "outputs": [
    {
     "name": "stdout",
     "output_type": "stream",
     "text": [
      "(11314, 116709)\n"
     ]
    }
   ],
   "source": [
    "print(text_bow.shape)"
   ]
  },
  {
   "cell_type": "code",
   "execution_count": 31,
   "metadata": {
    "colab": {
     "base_uri": "https://localhost:8080/"
    },
    "id": "NfaUhlHNzEum",
    "outputId": "24def772-992e-4aba-a9a1-32539f8b8118"
   },
   "outputs": [
    {
     "data": {
      "text/plain": [
       "1279237"
      ]
     },
     "execution_count": 31,
     "metadata": {},
     "output_type": "execute_result"
    }
   ],
   "source": [
    "text_bow.nnz"
   ]
  },
  {
   "cell_type": "code",
   "execution_count": 41,
   "metadata": {
    "id": "SiXY1pLqzEum"
   },
   "outputs": [],
   "source": [
    "test_bow = bow_transformer.transform(df_test[\"text\"])"
   ]
  },
  {
   "cell_type": "code",
   "execution_count": 33,
   "metadata": {
    "colab": {
     "base_uri": "https://localhost:8080/"
    },
    "id": "_Cd49uP1zEun",
    "outputId": "3aefd2d6-ce73-48ab-a20d-6f6d37f6b739"
   },
   "outputs": [
    {
     "name": "stdout",
     "output_type": "stream",
     "text": [
      "(7532, 116709)\n"
     ]
    }
   ],
   "source": [
    "print(test_bow.shape)"
   ]
  },
  {
   "cell_type": "code",
   "execution_count": 34,
   "metadata": {
    "colab": {
     "base_uri": "https://localhost:8080/"
    },
    "id": "h40xRRZjzEun",
    "outputId": "25527484-59d5-4c21-b356-c0c884fe0f1a"
   },
   "outputs": [
    {
     "data": {
      "text/plain": [
       "785399"
      ]
     },
     "execution_count": 34,
     "metadata": {},
     "output_type": "execute_result"
    }
   ],
   "source": [
    "test_bow.nnz"
   ]
  },
  {
   "cell_type": "code",
   "execution_count": 42,
   "metadata": {
    "id": "dPOTpaXizEun"
   },
   "outputs": [],
   "source": [
    "from sklearn.feature_extraction.text import TfidfTransformer"
   ]
  },
  {
   "cell_type": "code",
   "execution_count": 43,
   "metadata": {
    "id": "aro0KGGnzEun"
   },
   "outputs": [],
   "source": [
    "tfidf_transformer = TfidfTransformer().fit(text_bow)"
   ]
  },
  {
   "cell_type": "code",
   "execution_count": 44,
   "metadata": {
    "id": "M1u9VJr0zEun"
   },
   "outputs": [],
   "source": [
    "text_tfidf = tfidf_transformer.transform(text_bow)"
   ]
  },
  {
   "cell_type": "code",
   "execution_count": 45,
   "metadata": {
    "id": "xsvxt5rbzEun"
   },
   "outputs": [],
   "source": [
    "test_tfidf = tfidf_transformer.transform(test_bow)"
   ]
  },
  {
   "cell_type": "code",
   "execution_count": 67,
   "metadata": {
    "id": "zvC33FP4zEun"
   },
   "outputs": [],
   "source": [
    "from sklearn.naive_bayes import MultinomialNB"
   ]
  },
  {
   "cell_type": "code",
   "execution_count": 68,
   "metadata": {
    "id": "PVUjafFlzEuo"
   },
   "outputs": [],
   "source": [
    "nb_model = MultinomialNB().fit(text_tfidf, df[\"target\"])"
   ]
  },
  {
   "cell_type": "code",
   "execution_count": 69,
   "metadata": {
    "id": "RKnaZAr3zEuo"
   },
   "outputs": [],
   "source": [
    "all_pred_nb = nb_model.predict(test_tfidf)"
   ]
  },
  {
   "cell_type": "code",
   "execution_count": 49,
   "metadata": {
    "id": "Ldwve5GvzEuo"
   },
   "outputs": [],
   "source": [
    "from sklearn.neighbors import NearestCentroid"
   ]
  },
  {
   "cell_type": "code",
   "execution_count": 50,
   "metadata": {
    "id": "YczB_GKIzEuo"
   },
   "outputs": [],
   "source": [
    "rocchio_model = NearestCentroid().fit(text_tfidf, df[\"target\"])"
   ]
  },
  {
   "cell_type": "code",
   "execution_count": 51,
   "metadata": {
    "id": "7Guhpk-PzEuo"
   },
   "outputs": [],
   "source": [
    "all_pred_rc = rocchio_model.predict(test_tfidf)"
   ]
  },
  {
   "cell_type": "code",
   "execution_count": 52,
   "metadata": {
    "id": "bV_LIGSMzEuo"
   },
   "outputs": [],
   "source": [
    "from sklearn.neighbors import KNeighborsClassifier"
   ]
  },
  {
   "cell_type": "code",
   "execution_count": 53,
   "metadata": {
    "id": "L36Fn_YYzEuo"
   },
   "outputs": [],
   "source": [
    "knn_model = KNeighborsClassifier().fit(text_tfidf, df[\"target\"])"
   ]
  },
  {
   "cell_type": "code",
   "execution_count": 54,
   "metadata": {
    "id": "pnrSN4X9zEuo"
   },
   "outputs": [],
   "source": [
    "all_pred_knn = knn_model.predict(test_tfidf)"
   ]
  },
  {
   "cell_type": "code",
   "execution_count": 70,
   "metadata": {
    "id": "NUCp6XobzEuo"
   },
   "outputs": [],
   "source": [
    "from sklearn.metrics import f1_score, precision_score, recall_score"
   ]
  },
  {
   "cell_type": "code",
   "execution_count": 71,
   "metadata": {
    "colab": {
     "base_uri": "https://localhost:8080/"
    },
    "id": "vtftusclOl_1",
    "outputId": "1146c6fe-e27d-4b91-9b86-c8c23e994990"
   },
   "outputs": [
    {
     "name": "stdout",
     "output_type": "stream",
     "text": [
      "Precision score for Naive Bayse classifier\n"
     ]
    },
    {
     "data": {
      "text/plain": [
       "0.8344076840023655"
      ]
     },
     "execution_count": 71,
     "metadata": {},
     "output_type": "execute_result"
    }
   ],
   "source": [
    "print(\"Precision score for Naive Bayse classifier\")\n",
    "precision_score(df_test[\"target\"], all_pred_nb, average='macro')"
   ]
  },
  {
   "cell_type": "code",
   "execution_count": 72,
   "metadata": {
    "colab": {
     "base_uri": "https://localhost:8080/"
    },
    "id": "NsBXlsueOyzS",
    "outputId": "c5ec255d-cd3f-4314-dff4-be58c4a2a3f8"
   },
   "outputs": [
    {
     "name": "stdout",
     "output_type": "stream",
     "text": [
      "Recall score for Naive Bayse classifier\n"
     ]
    },
    {
     "data": {
      "text/plain": [
       "0.7829845378330134"
      ]
     },
     "execution_count": 72,
     "metadata": {},
     "output_type": "execute_result"
    }
   ],
   "source": [
    "print(\"Recall score for Naive Bayse classifier\")\n",
    "recall_score(df_test[\"target\"], all_pred_nb, average='macro')"
   ]
  },
  {
   "cell_type": "code",
   "execution_count": 73,
   "metadata": {
    "colab": {
     "base_uri": "https://localhost:8080/"
    },
    "id": "HT-o8amAOlLV",
    "outputId": "2341b03e-317a-41e7-d591-2c490e9f7f86"
   },
   "outputs": [
    {
     "name": "stdout",
     "output_type": "stream",
     "text": [
      "f1 score for Naive Bayse classifier\n"
     ]
    },
    {
     "data": {
      "text/plain": [
       "0.7778189037762011"
      ]
     },
     "execution_count": 73,
     "metadata": {},
     "output_type": "execute_result"
    }
   ],
   "source": [
    "print(\"f1 score for Naive Bayse classifier\")\n",
    "f1_score(df_test[\"target\"], all_pred_nb, average='macro')"
   ]
  },
  {
   "cell_type": "code",
   "execution_count": 59,
   "metadata": {
    "colab": {
     "base_uri": "https://localhost:8080/"
    },
    "id": "fIm3LgX2PNxA",
    "outputId": "f575200e-36af-4ece-a097-d474fb8a88cf"
   },
   "outputs": [
    {
     "name": "stdout",
     "output_type": "stream",
     "text": [
      "Precision score for Rocchio classifier\n"
     ]
    },
    {
     "data": {
      "text/plain": [
       "0.7800058649580872"
      ]
     },
     "execution_count": 59,
     "metadata": {},
     "output_type": "execute_result"
    }
   ],
   "source": [
    "print(\"Precision score for Rocchio classifier\")\n",
    "precision_score(df_test[\"target\"], all_pred_rc, average='macro')"
   ]
  },
  {
   "cell_type": "code",
   "execution_count": 60,
   "metadata": {
    "colab": {
     "base_uri": "https://localhost:8080/"
    },
    "id": "g_MysvhZPON7",
    "outputId": "58739faf-dffe-4783-9942-e7b11e434b9d"
   },
   "outputs": [
    {
     "name": "stdout",
     "output_type": "stream",
     "text": [
      "Recall score for Rocchioclassifier\n"
     ]
    },
    {
     "data": {
      "text/plain": [
       "0.7377806678863587"
      ]
     },
     "execution_count": 60,
     "metadata": {},
     "output_type": "execute_result"
    }
   ],
   "source": [
    "print(\"Recall score for Rocchioclassifier\")\n",
    "recall_score(df_test[\"target\"], all_pred_rc, average='macro')"
   ]
  },
  {
   "cell_type": "code",
   "execution_count": 61,
   "metadata": {
    "colab": {
     "base_uri": "https://localhost:8080/"
    },
    "id": "VQisia9TzEup",
    "outputId": "db677cb3-3711-4555-c3b6-84bcd9f06c4b"
   },
   "outputs": [
    {
     "name": "stdout",
     "output_type": "stream",
     "text": [
      "f1 score for Rocchio classifier\n"
     ]
    },
    {
     "data": {
      "text/plain": [
       "0.7484119988136134"
      ]
     },
     "execution_count": 61,
     "metadata": {},
     "output_type": "execute_result"
    }
   ],
   "source": [
    "print(\"f1 score for Rocchio classifier\")\n",
    "f1_score(df_test[\"target\"], all_pred_rc, average='macro')"
   ]
  },
  {
   "cell_type": "code",
   "execution_count": 62,
   "metadata": {
    "colab": {
     "base_uri": "https://localhost:8080/"
    },
    "id": "ePHxB0ePQLAo",
    "outputId": "a8453e75-dd70-4c18-ee0e-49a0b488f11f"
   },
   "outputs": [
    {
     "name": "stdout",
     "output_type": "stream",
     "text": [
      "Precision score for KNN classifier\n"
     ]
    },
    {
     "data": {
      "text/plain": [
       "0.7248771201384477"
      ]
     },
     "execution_count": 62,
     "metadata": {},
     "output_type": "execute_result"
    }
   ],
   "source": [
    "print(\"Precision score for KNN classifier\")\n",
    "precision_score(df_test[\"target\"], all_pred_knn, average='macro')"
   ]
  },
  {
   "cell_type": "code",
   "execution_count": 63,
   "metadata": {
    "colab": {
     "base_uri": "https://localhost:8080/"
    },
    "id": "7cJfdQffQLRn",
    "outputId": "fcb3d892-bd58-4bda-eada-8be34fb04238"
   },
   "outputs": [
    {
     "name": "stdout",
     "output_type": "stream",
     "text": [
      "Recall score for Rocchioclassifier\n"
     ]
    },
    {
     "data": {
      "text/plain": [
       "0.7181217861345297"
      ]
     },
     "execution_count": 63,
     "metadata": {},
     "output_type": "execute_result"
    }
   ],
   "source": [
    "print(\"Recall score for Rocchioclassifier\")\n",
    "recall_score(df_test[\"target\"], all_pred_knn, average='macro')"
   ]
  },
  {
   "cell_type": "code",
   "execution_count": 64,
   "metadata": {
    "colab": {
     "base_uri": "https://localhost:8080/"
    },
    "id": "HBQxkDd1zEup",
    "outputId": "ea9ef13a-8ed9-46f6-a6fb-c04bfe0a2ea1"
   },
   "outputs": [
    {
     "name": "stdout",
     "output_type": "stream",
     "text": [
      "f1 score for KNN classifier\n"
     ]
    },
    {
     "data": {
      "text/plain": [
       "0.7182835231263566"
      ]
     },
     "execution_count": 64,
     "metadata": {},
     "output_type": "execute_result"
    }
   ],
   "source": [
    "print(\"f1 score for KNN classifier\")\n",
    "f1_score(df_test[\"target\"], all_pred_knn, average='macro')"
   ]
  },
  {
   "cell_type": "code",
   "execution_count": 74,
   "metadata": {
    "colab": {
     "base_uri": "https://localhost:8080/",
     "height": 392
    },
    "id": "QmrglUCNzEup",
    "outputId": "ef452544-6534-404a-e69b-cbe77eb49a4a"
   },
   "outputs": [
    {
     "data": {
      "image/png": "[encoded data removed]",
      "text/plain": [
       "<Figure size 576x432 with 1 Axes>"
      ]
     },
     "metadata": {
      "needs_background": "light"
     },
     "output_type": "display_data"
    }
   ],
   "source": [
    "import seaborn as sns\n",
    "import matplotlib.pyplot as plt\n",
    "\n",
    "population=[0.844, 0.732, 0.788]\n",
    "cv_metrics = pd.DataFrame({\"Naive-Bayes\": 0.8344076840023655,\n",
    "                           \"Rocchio\": 0.7484119988136134,\n",
    "                          \"KNN\": 0.7182835231263566\n",
    "                          },\n",
    "                         index=[0])\n",
    "plt.figure(figsize=(8, 6))\n",
    "splot=sns.barplot(data=cv_metrics)\n",
    "for p in splot.patches:\n",
    "    splot.annotate(format(p.get_height(), '.4f'), \n",
    "                   (p.get_x() + p.get_width() / 2., p.get_height()), \n",
    "                   ha = 'center', va = 'center', \n",
    "                   xytext = (0, 9), \n",
    "                   textcoords = 'offset points')\n",
    "plt.xlabel(\"F1-scores\", size=14);\n",
    "\n"
   ]
  }
 ],
 "metadata": {
  "colab": {
   "collapsed_sections": [],
   "name": "Lab 5.ipynb",
   "provenance": []
  },
  "kernelspec": {
   "display_name": "Python 3",
   "language": "python",
   "name": "python3"
  },
  "language_info": {
   "codemirror_mode": {
    "name": "ipython",
    "version": 3
   },
   "file_extension": ".py",
   "mimetype": "text/x-python",
   "name": "python",
   "nbconvert_exporter": "python",
   "pygments_lexer": "ipython3",
   "version": "3.7.6"
  }
 },
 "nbformat": 4,
 "nbformat_minor": 1
}
